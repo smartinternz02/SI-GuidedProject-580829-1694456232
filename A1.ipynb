{
  "nbformat": 4,
  "nbformat_minor": 0,
  "metadata": {
    "colab": {
      "provenance": []
    },
    "kernelspec": {
      "name": "python3",
      "display_name": "Python 3"
    },
    "language_info": {
      "name": "python"
    }
  },
  "cells": [
    {
      "cell_type": "code",
      "execution_count": 2,
      "metadata": {
        "colab": {
          "base_uri": "https://localhost:8080/"
        },
        "id": "EldaXoccb1Lf",
        "outputId": "b89e93d2-bfa8-481b-8bbe-036e2b5e99d8"
      },
      "outputs": [
        {
          "output_type": "stream",
          "name": "stdout",
          "text": [
            "          A         B         C         D\n",
            "0  0.662896  0.190441  0.522570  0.045160\n",
            "1  0.054763  0.441567  0.684713  0.066624\n",
            "2  0.423258  0.210529  0.871140  0.731207\n",
            "3  0.142046  0.480590  0.487942  0.809567\n"
          ]
        }
      ],
      "source": [
        "import pandas as pd\n",
        "import numpy as np\n",
        "\n",
        "data = np.random.rand(4, 4)\n",
        "\n",
        "df = pd.DataFrame(data, columns=['A', 'B', 'C', 'D'])\n",
        "\n",
        "print(df)\n"
      ]
    },
    {
      "cell_type": "code",
      "source": [
        "df.rename(columns={\n",
        "    'A': 'Random value 1',\n",
        "    'B': 'Random value 2',\n",
        "    'C': 'Random value 3',\n",
        "    'D': 'Random value 4'\n",
        "}, inplace=True)\n",
        "\n",
        "print(df)\n"
      ],
      "metadata": {
        "colab": {
          "base_uri": "https://localhost:8080/"
        },
        "id": "Yd85wfuMcTBm",
        "outputId": "370faa96-b186-4711-c88a-ab6e73db1a72"
      },
      "execution_count": 3,
      "outputs": [
        {
          "output_type": "stream",
          "name": "stdout",
          "text": [
            "   Random value 1  Random value 2  Random value 3  Random value 4\n",
            "0        0.662896        0.190441        0.522570        0.045160\n",
            "1        0.054763        0.441567        0.684713        0.066624\n",
            "2        0.423258        0.210529        0.871140        0.731207\n",
            "3        0.142046        0.480590        0.487942        0.809567\n"
          ]
        }
      ]
    },
    {
      "cell_type": "code",
      "source": [
        "df_descriptive_stats = df.describe()\n",
        "print(df_descriptive_stats)\n"
      ],
      "metadata": {
        "colab": {
          "base_uri": "https://localhost:8080/"
        },
        "id": "M81DMKiiciIg",
        "outputId": "034421ed-8b92-413d-e815-4c1d1208b764"
      },
      "execution_count": 4,
      "outputs": [
        {
          "output_type": "stream",
          "name": "stdout",
          "text": [
            "       Random value 1  Random value 2  Random value 3  Random value 4\n",
            "count        4.000000        4.000000        4.000000        4.000000\n",
            "mean         0.320741        0.330782        0.641591        0.413139\n",
            "std          0.277041        0.151517        0.175429        0.413845\n",
            "min          0.054763        0.190441        0.487942        0.045160\n",
            "25%          0.120226        0.205507        0.513913        0.061258\n",
            "50%          0.282652        0.326048        0.603641        0.398915\n",
            "75%          0.483168        0.451323        0.731320        0.750797\n",
            "max          0.662896        0.480590        0.871140        0.809567\n"
          ]
        }
      ]
    },
    {
      "cell_type": "code",
      "source": [
        "null_values = df.isnull().sum()\n",
        "data_types = df.dtypes\n",
        "print(\"Null Values:\")\n",
        "print(null_values)\n",
        "print(\"\\nData Types:\")\n",
        "print(data_types)\n"
      ],
      "metadata": {
        "colab": {
          "base_uri": "https://localhost:8080/"
        },
        "id": "S8qjBnV8ct_p",
        "outputId": "77e28d36-7ebd-448c-9a9d-8050b43cb7b3"
      },
      "execution_count": 5,
      "outputs": [
        {
          "output_type": "stream",
          "name": "stdout",
          "text": [
            "Null Values:\n",
            "Random value 1    0\n",
            "Random value 2    0\n",
            "Random value 3    0\n",
            "Random value 4    0\n",
            "dtype: int64\n",
            "\n",
            "Data Types:\n",
            "Random value 1    float64\n",
            "Random value 2    float64\n",
            "Random value 3    float64\n",
            "Random value 4    float64\n",
            "dtype: object\n"
          ]
        }
      ]
    },
    {
      "cell_type": "code",
      "source": [
        "selected_columns_loc = df.loc[:, ['Random value 2', 'Random value 3']]\n",
        "print(selected_columns_loc)\n"
      ],
      "metadata": {
        "colab": {
          "base_uri": "https://localhost:8080/"
        },
        "id": "-FPCwzz6czdd",
        "outputId": "64c62c0d-0d4c-4e87-8870-5c2f95850631"
      },
      "execution_count": 6,
      "outputs": [
        {
          "output_type": "stream",
          "name": "stdout",
          "text": [
            "   Random value 2  Random value 3\n",
            "0        0.190441        0.522570\n",
            "1        0.441567        0.684713\n",
            "2        0.210529        0.871140\n",
            "3        0.480590        0.487942\n"
          ]
        }
      ]
    },
    {
      "cell_type": "code",
      "source": [
        "selected_columns_iloc = df.iloc[:, [1, 2]]\n",
        "print(selected_columns_iloc)\n"
      ],
      "metadata": {
        "colab": {
          "base_uri": "https://localhost:8080/"
        },
        "id": "qmKrach8c9xt",
        "outputId": "81b3cac4-4ee7-48af-813f-42b3727bdaed"
      },
      "execution_count": 7,
      "outputs": [
        {
          "output_type": "stream",
          "name": "stdout",
          "text": [
            "   Random value 2  Random value 3\n",
            "0        0.190441        0.522570\n",
            "1        0.441567        0.684713\n",
            "2        0.210529        0.871140\n",
            "3        0.480590        0.487942\n"
          ]
        }
      ]
    }
  ]
}